{
 "cells": [
  {
   "cell_type": "code",
   "execution_count": 1,
   "id": "d858081e",
   "metadata": {},
   "outputs": [],
   "source": [
    "import sys\n",
    "sys.path.append('../')"
   ]
  },
  {
   "cell_type": "markdown",
   "id": "f2d696f8",
   "metadata": {},
   "source": [
    "**Import Module**"
   ]
  },
  {
   "cell_type": "code",
   "execution_count": 2,
   "id": "a21a42f8",
   "metadata": {},
   "outputs": [],
   "source": [
    "import torch.nn as nn\n",
    "from torchvision import models\n",
    "import timm\n",
    "\n",
    "from models.trainer import Trainer\n",
    "from datasets.data_manager import DataManager\n",
    "from models.transform_manager import TransformManager\n",
    "from models.model_manager import ModelManager\n",
    "from models.training_manager import TrainingManager\n",
    "from models.test_manager import TestManager\n",
    "\n",
    "from results.metrics_visualizer import MetricsVisualizer\n",
    "from results.metrics_calculator import MetricsCalculator\n",
    "from results.plot_visualizer import PlotVisualizer\n",
    "from results.heatmap_generator import HeatmapGenerator"
   ]
  },
  {
   "cell_type": "markdown",
   "id": "a00c7973",
   "metadata": {},
   "source": [
    "**Define Model Class**"
   ]
  },
  {
   "cell_type": "code",
   "execution_count": 3,
   "id": "c7662dc5",
   "metadata": {},
   "outputs": [],
   "source": [
    "class MobileNetV2MultiLabel(nn.Module):\n",
    "\n",
    "    def __init__(self, num_classes):\n",
    "        super(MobileNetV2MultiLabel, self).__init__()\n",
    "        self.model = models.mobilenet_v2(pretrained=True)\n",
    "\n",
    "        num_ftrs = self.model.classifier[1].in_features\n",
    "\n",
    "        self.model.classifier = nn.Sequential(\n",
    "            nn.Dropout(0.2),\n",
    "            nn.Linear(num_ftrs, num_classes)\n",
    "        )\n",
    "\n",
    "    def forward(self, x):\n",
    "        return self.model(x)"
   ]
  },
  {
   "cell_type": "markdown",
   "id": "c05cc918",
   "metadata": {},
   "source": [
    "**Define Model Name & Initialize Model Class**"
   ]
  },
  {
   "cell_type": "code",
   "execution_count": 16,
   "id": "e1a8f6c9",
   "metadata": {},
   "outputs": [],
   "source": [
    "modelName = \"MobileNetV2\"\n",
    "MODEL = MobileNetV2MultiLabel"
   ]
  },
  {
   "cell_type": "markdown",
   "id": "0f60c7bb",
   "metadata": {},
   "source": [
    "**Constants**"
   ]
  },
  {
   "cell_type": "code",
   "execution_count": 6,
   "id": "d80acca7",
   "metadata": {},
   "outputs": [],
   "source": [
    "BATCH_SIZE = 64\n",
    "LEARNING_RATE = 1e-4\n",
    "SIZE = 224\n",
    "FOLD_SPLITS=2\n",
    "EPOCHS = 30\n",
    "DEVICE = \"cuda\"\n",
    "WEIGHT_DECAY = 1e-5\n",
    "OPTIMIZER_TYPE = \"RAdam\"\n",
    "\n",
    "MAIN_CSV_FILE = \"../final_label.csv\"\n",
    "LABEL_COLS = [\"Fracture\", \"CalvarialFracture\", \"OtherFracture\"]\n",
    "DATASET_PATH = \"../Dataset_PNG\"\n",
    "TEST_CSV_FILE = \"../test_fold.csv\"\n",
    "\n",
    "MODEL_SAVE_PATH = f\"./models/{modelName}\"\n",
    "TRAINING_VALIDATION_PLOT_SAVE_PATH = f\"./results/{modelName}\"\n",
    "PLOT_SAVE_PATH = f\"./results/{modelName}\"\n",
    "GRADCAM_HEATMAP_SAVE_PATH = f\"./results/{modelName}\"\n",
    "CAM_OUTPUT_SIZE = 512"
   ]
  },
  {
   "cell_type": "markdown",
   "id": "04b2f945",
   "metadata": {},
   "source": [
    "***Initialize necessary modules***"
   ]
  },
  {
   "cell_type": "code",
   "execution_count": 7,
   "id": "dde4f946",
   "metadata": {},
   "outputs": [],
   "source": [
    "data_manager = DataManager(MAIN_CSV_FILE, LABEL_COLS, FOLD_SPLITS)\n",
    "\n",
    "transform_manager = TransformManager(DATASET_PATH, SIZE, BATCH_SIZE)\n",
    "\n",
    "model_manager = ModelManager(LABEL_COLS, DEVICE, MODEL_SAVE_PATH, MODEL, LEARNING_RATE, WEIGHT_DECAY, OPTIMIZER_TYPE)\n",
    "\n",
    "training_manager = TrainingManager(data_manager, transform_manager, model_manager, EPOCHS)"
   ]
  },
  {
   "cell_type": "markdown",
   "id": "388c0ad4",
   "metadata": {},
   "source": [
    "***Begin training***"
   ]
  },
  {
   "cell_type": "code",
   "execution_count": 8,
   "id": "349dcbb7",
   "metadata": {},
   "outputs": [
    {
     "data": {
      "application/vnd.jupyter.widget-view+json": {
       "model_id": "2143ced4aabb4be68b69afd9ce1fcaa8",
       "version_major": 2,
       "version_minor": 0
      },
      "text/plain": [
       "Processing Folds:   0%|          | 0/2 [00:00<?, ?it/s]"
      ]
     },
     "metadata": {},
     "output_type": "display_data"
    },
    {
     "data": {
      "application/vnd.jupyter.widget-view+json": {
       "model_id": "7985d1d4e74148b0b436756143102057",
       "version_major": 2,
       "version_minor": 0
      },
      "text/plain": [
       "Processing Training Folds:   0%|          | 0/78 [00:00<?, ?it/s]"
      ]
     },
     "metadata": {},
     "output_type": "display_data"
    },
    {
     "data": {
      "application/vnd.jupyter.widget-view+json": {
       "model_id": "88182680b1004cd19950cfec134f8ee4",
       "version_major": 2,
       "version_minor": 0
      },
      "text/plain": [
       "Processing Validation Folds:   0%|          | 0/78 [00:00<?, ?it/s]"
      ]
     },
     "metadata": {},
     "output_type": "display_data"
    },
    {
     "name": "stdout",
     "output_type": "stream",
     "text": [
      "Epoch 1/30 - Train Loss: 47.2132, Train Accuracy: 0.6810, Val Loss: 35.2317, Val Accuracy: 0.8487\n"
     ]
    },
    {
     "data": {
      "application/vnd.jupyter.widget-view+json": {
       "model_id": "49d936d1faf74c788859b3fb9e680ba1",
       "version_major": 2,
       "version_minor": 0
      },
      "text/plain": [
       "Processing Training Folds:   0%|          | 0/78 [00:00<?, ?it/s]"
      ]
     },
     "metadata": {},
     "output_type": "display_data"
    },
    {
     "data": {
      "application/vnd.jupyter.widget-view+json": {
       "model_id": "d90730aafb144f89aa169592b5f1efa9",
       "version_major": 2,
       "version_minor": 0
      },
      "text/plain": [
       "Processing Validation Folds:   0%|          | 0/78 [00:00<?, ?it/s]"
      ]
     },
     "metadata": {},
     "output_type": "display_data"
    },
    {
     "name": "stdout",
     "output_type": "stream",
     "text": [
      "Epoch 2/30 - Train Loss: 24.9448, Train Accuracy: 0.8926, Val Loss: 15.7253, Val Accuracy: 0.9362\n"
     ]
    },
    {
     "data": {
      "application/vnd.jupyter.widget-view+json": {
       "model_id": "d1a5759e994e4a1f8760561e74510084",
       "version_major": 2,
       "version_minor": 0
      },
      "text/plain": [
       "Processing Training Folds:   0%|          | 0/78 [00:00<?, ?it/s]"
      ]
     },
     "metadata": {},
     "output_type": "display_data"
    },
    {
     "data": {
      "application/vnd.jupyter.widget-view+json": {
       "model_id": "b1cc369e6adb4b2f84c3ac70f1cd8c6b",
       "version_major": 2,
       "version_minor": 0
      },
      "text/plain": [
       "Processing Validation Folds:   0%|          | 0/78 [00:00<?, ?it/s]"
      ]
     },
     "metadata": {},
     "output_type": "display_data"
    },
    {
     "name": "stdout",
     "output_type": "stream",
     "text": [
      "Epoch 3/30 - Train Loss: 12.7382, Train Accuracy: 0.9481, Val Loss: 9.2810, Val Accuracy: 0.9684\n"
     ]
    },
    {
     "data": {
      "application/vnd.jupyter.widget-view+json": {
       "model_id": "e682b4a5aba443c18cf8de30d37b1f9f",
       "version_major": 2,
       "version_minor": 0
      },
      "text/plain": [
       "Processing Training Folds:   0%|          | 0/78 [00:00<?, ?it/s]"
      ]
     },
     "metadata": {},
     "output_type": "display_data"
    },
    {
     "data": {
      "application/vnd.jupyter.widget-view+json": {
       "model_id": "0a7efd44dd2b45f0999def74d7f67f9f",
       "version_major": 2,
       "version_minor": 0
      },
      "text/plain": [
       "Processing Validation Folds:   0%|          | 0/78 [00:00<?, ?it/s]"
      ]
     },
     "metadata": {},
     "output_type": "display_data"
    },
    {
     "name": "stdout",
     "output_type": "stream",
     "text": [
      "Epoch 4/30 - Train Loss: 6.8577, Train Accuracy: 0.9780, Val Loss: 5.0572, Val Accuracy: 0.9818\n"
     ]
    },
    {
     "data": {
      "application/vnd.jupyter.widget-view+json": {
       "model_id": "13dbf762d88e414da2638eea4b3a5e49",
       "version_major": 2,
       "version_minor": 0
      },
      "text/plain": [
       "Processing Training Folds:   0%|          | 0/78 [00:00<?, ?it/s]"
      ]
     },
     "metadata": {},
     "output_type": "display_data"
    },
    {
     "data": {
      "application/vnd.jupyter.widget-view+json": {
       "model_id": "f58dbf16463949bb9fce8aaad568014c",
       "version_major": 2,
       "version_minor": 0
      },
      "text/plain": [
       "Processing Validation Folds:   0%|          | 0/78 [00:00<?, ?it/s]"
      ]
     },
     "metadata": {},
     "output_type": "display_data"
    },
    {
     "name": "stdout",
     "output_type": "stream",
     "text": [
      "Epoch 5/30 - Train Loss: 3.4246, Train Accuracy: 0.9911, Val Loss: 3.4308, Val Accuracy: 0.9892\n"
     ]
    },
    {
     "data": {
      "application/vnd.jupyter.widget-view+json": {
       "model_id": "284cbf5a830648e2a1172aa09ec38ae7",
       "version_major": 2,
       "version_minor": 0
      },
      "text/plain": [
       "Processing Training Folds:   0%|          | 0/78 [00:00<?, ?it/s]"
      ]
     },
     "metadata": {},
     "output_type": "display_data"
    },
    {
     "data": {
      "application/vnd.jupyter.widget-view+json": {
       "model_id": "3703b96a083a4d3ca40ef5440c2b106a",
       "version_major": 2,
       "version_minor": 0
      },
      "text/plain": [
       "Processing Validation Folds:   0%|          | 0/78 [00:00<?, ?it/s]"
      ]
     },
     "metadata": {},
     "output_type": "display_data"
    },
    {
     "name": "stdout",
     "output_type": "stream",
     "text": [
      "Epoch 6/30 - Train Loss: 2.3009, Train Accuracy: 0.9947, Val Loss: 3.8006, Val Accuracy: 0.9840\n"
     ]
    },
    {
     "data": {
      "application/vnd.jupyter.widget-view+json": {
       "model_id": "2f07d8451b174d488ccaedef849c9c1e",
       "version_major": 2,
       "version_minor": 0
      },
      "text/plain": [
       "Processing Training Folds:   0%|          | 0/78 [00:00<?, ?it/s]"
      ]
     },
     "metadata": {},
     "output_type": "display_data"
    },
    {
     "data": {
      "application/vnd.jupyter.widget-view+json": {
       "model_id": "e6bf78adeed7445298b556318ee08f3d",
       "version_major": 2,
       "version_minor": 0
      },
      "text/plain": [
       "Processing Validation Folds:   0%|          | 0/78 [00:00<?, ?it/s]"
      ]
     },
     "metadata": {},
     "output_type": "display_data"
    },
    {
     "name": "stdout",
     "output_type": "stream",
     "text": [
      "Epoch 7/30 - Train Loss: 1.4920, Train Accuracy: 0.9960, Val Loss: 2.1069, Val Accuracy: 0.9925\n"
     ]
    },
    {
     "data": {
      "application/vnd.jupyter.widget-view+json": {
       "model_id": "409ff8b0f02b48b6b78befae12948dae",
       "version_major": 2,
       "version_minor": 0
      },
      "text/plain": [
       "Processing Training Folds:   0%|          | 0/78 [00:00<?, ?it/s]"
      ]
     },
     "metadata": {},
     "output_type": "display_data"
    },
    {
     "data": {
      "application/vnd.jupyter.widget-view+json": {
       "model_id": "803cbfa45d9b4c8e9b2a8059e6f0d52b",
       "version_major": 2,
       "version_minor": 0
      },
      "text/plain": [
       "Processing Validation Folds:   0%|          | 0/78 [00:00<?, ?it/s]"
      ]
     },
     "metadata": {},
     "output_type": "display_data"
    },
    {
     "name": "stdout",
     "output_type": "stream",
     "text": [
      "Epoch 8/30 - Train Loss: 1.3918, Train Accuracy: 0.9971, Val Loss: 1.6116, Val Accuracy: 0.9949\n"
     ]
    },
    {
     "data": {
      "application/vnd.jupyter.widget-view+json": {
       "model_id": "2d4148fe64574104917cc90760f48e8f",
       "version_major": 2,
       "version_minor": 0
      },
      "text/plain": [
       "Processing Training Folds:   0%|          | 0/78 [00:00<?, ?it/s]"
      ]
     },
     "metadata": {},
     "output_type": "display_data"
    },
    {
     "data": {
      "application/vnd.jupyter.widget-view+json": {
       "model_id": "26901faac51d4fb495134221bc230caa",
       "version_major": 2,
       "version_minor": 0
      },
      "text/plain": [
       "Processing Validation Folds:   0%|          | 0/78 [00:00<?, ?it/s]"
      ]
     },
     "metadata": {},
     "output_type": "display_data"
    },
    {
     "name": "stdout",
     "output_type": "stream",
     "text": [
      "Epoch 9/30 - Train Loss: 0.6880, Train Accuracy: 0.9989, Val Loss: 1.6016, Val Accuracy: 0.9940\n"
     ]
    },
    {
     "data": {
      "application/vnd.jupyter.widget-view+json": {
       "model_id": "1d4413dca4dd4b979dc97ce9fa6042b8",
       "version_major": 2,
       "version_minor": 0
      },
      "text/plain": [
       "Processing Training Folds:   0%|          | 0/78 [00:00<?, ?it/s]"
      ]
     },
     "metadata": {},
     "output_type": "display_data"
    },
    {
     "data": {
      "application/vnd.jupyter.widget-view+json": {
       "model_id": "a6fdd7f23e7b4888a0113c384f812227",
       "version_major": 2,
       "version_minor": 0
      },
      "text/plain": [
       "Processing Validation Folds:   0%|          | 0/78 [00:00<?, ?it/s]"
      ]
     },
     "metadata": {},
     "output_type": "display_data"
    },
    {
     "name": "stdout",
     "output_type": "stream",
     "text": [
      "Epoch 10/30 - Train Loss: 0.7746, Train Accuracy: 0.9985, Val Loss: 2.0517, Val Accuracy: 0.9919\n"
     ]
    },
    {
     "data": {
      "application/vnd.jupyter.widget-view+json": {
       "model_id": "d7e6a7f6a56445969a7e741fc05a6370",
       "version_major": 2,
       "version_minor": 0
      },
      "text/plain": [
       "Processing Training Folds:   0%|          | 0/78 [00:00<?, ?it/s]"
      ]
     },
     "metadata": {},
     "output_type": "display_data"
    },
    {
     "data": {
      "application/vnd.jupyter.widget-view+json": {
       "model_id": "cff0c2a199c54c58987897c187f80b2e",
       "version_major": 2,
       "version_minor": 0
      },
      "text/plain": [
       "Processing Validation Folds:   0%|          | 0/78 [00:00<?, ?it/s]"
      ]
     },
     "metadata": {},
     "output_type": "display_data"
    },
    {
     "name": "stdout",
     "output_type": "stream",
     "text": [
      "Epoch 11/30 - Train Loss: 0.4441, Train Accuracy: 0.9995, Val Loss: 1.2736, Val Accuracy: 0.9950\n"
     ]
    },
    {
     "data": {
      "application/vnd.jupyter.widget-view+json": {
       "model_id": "dc2063bc719a4839a86d7daa8902bd37",
       "version_major": 2,
       "version_minor": 0
      },
      "text/plain": [
       "Processing Training Folds:   0%|          | 0/78 [00:00<?, ?it/s]"
      ]
     },
     "metadata": {},
     "output_type": "display_data"
    },
    {
     "data": {
      "application/vnd.jupyter.widget-view+json": {
       "model_id": "def5830002094db282cc53f0d8691d36",
       "version_major": 2,
       "version_minor": 0
      },
      "text/plain": [
       "Processing Validation Folds:   0%|          | 0/78 [00:00<?, ?it/s]"
      ]
     },
     "metadata": {},
     "output_type": "display_data"
    },
    {
     "name": "stdout",
     "output_type": "stream",
     "text": [
      "Epoch 12/30 - Train Loss: 0.2675, Train Accuracy: 1.0000, Val Loss: 1.2820, Val Accuracy: 0.9952\n"
     ]
    },
    {
     "data": {
      "application/vnd.jupyter.widget-view+json": {
       "model_id": "0c126c872e9141a5a9da620ac856251c",
       "version_major": 2,
       "version_minor": 0
      },
      "text/plain": [
       "Processing Training Folds:   0%|          | 0/78 [00:00<?, ?it/s]"
      ]
     },
     "metadata": {},
     "output_type": "display_data"
    },
    {
     "data": {
      "application/vnd.jupyter.widget-view+json": {
       "model_id": "973fddf9eab74d8cb0f87309d4854181",
       "version_major": 2,
       "version_minor": 0
      },
      "text/plain": [
       "Processing Validation Folds:   0%|          | 0/78 [00:00<?, ?it/s]"
      ]
     },
     "metadata": {},
     "output_type": "display_data"
    },
    {
     "name": "stdout",
     "output_type": "stream",
     "text": [
      "Epoch 13/30 - Train Loss: 0.2674, Train Accuracy: 0.9998, Val Loss: 1.5415, Val Accuracy: 0.9939\n"
     ]
    },
    {
     "data": {
      "application/vnd.jupyter.widget-view+json": {
       "model_id": "5e759f2965e1465189f2ef4d5ec1636f",
       "version_major": 2,
       "version_minor": 0
      },
      "text/plain": [
       "Processing Training Folds:   0%|          | 0/78 [00:00<?, ?it/s]"
      ]
     },
     "metadata": {},
     "output_type": "display_data"
    },
    {
     "data": {
      "application/vnd.jupyter.widget-view+json": {
       "model_id": "b9927e9ec24b4c60ab8394b74c8b8bd9",
       "version_major": 2,
       "version_minor": 0
      },
      "text/plain": [
       "Processing Validation Folds:   0%|          | 0/78 [00:00<?, ?it/s]"
      ]
     },
     "metadata": {},
     "output_type": "display_data"
    },
    {
     "name": "stdout",
     "output_type": "stream",
     "text": [
      "Epoch 14/30 - Train Loss: 0.3178, Train Accuracy: 0.9990, Val Loss: 1.5092, Val Accuracy: 0.9947\n"
     ]
    },
    {
     "data": {
      "application/vnd.jupyter.widget-view+json": {
       "model_id": "f5450a1f900345baa536db28a360426b",
       "version_major": 2,
       "version_minor": 0
      },
      "text/plain": [
       "Processing Training Folds:   0%|          | 0/78 [00:00<?, ?it/s]"
      ]
     },
     "metadata": {},
     "output_type": "display_data"
    },
    {
     "data": {
      "application/vnd.jupyter.widget-view+json": {
       "model_id": "541abf53884f4618add5ed8f65b4aa58",
       "version_major": 2,
       "version_minor": 0
      },
      "text/plain": [
       "Processing Validation Folds:   0%|          | 0/78 [00:00<?, ?it/s]"
      ]
     },
     "metadata": {},
     "output_type": "display_data"
    },
    {
     "name": "stdout",
     "output_type": "stream",
     "text": [
      "Epoch 15/30 - Train Loss: 0.8276, Train Accuracy: 0.9979, Val Loss: 1.2026, Val Accuracy: 0.9958\n"
     ]
    },
    {
     "data": {
      "application/vnd.jupyter.widget-view+json": {
       "model_id": "1824ad31a617402ea029a92ab710c1ad",
       "version_major": 2,
       "version_minor": 0
      },
      "text/plain": [
       "Processing Training Folds:   0%|          | 0/78 [00:00<?, ?it/s]"
      ]
     },
     "metadata": {},
     "output_type": "display_data"
    },
    {
     "data": {
      "application/vnd.jupyter.widget-view+json": {
       "model_id": "41c7d95992584f7b81312260af1682e0",
       "version_major": 2,
       "version_minor": 0
      },
      "text/plain": [
       "Processing Validation Folds:   0%|          | 0/78 [00:00<?, ?it/s]"
      ]
     },
     "metadata": {},
     "output_type": "display_data"
    },
    {
     "name": "stdout",
     "output_type": "stream",
     "text": [
      "Epoch 16/30 - Train Loss: 0.2563, Train Accuracy: 0.9997, Val Loss: 1.0791, Val Accuracy: 0.9960\n"
     ]
    },
    {
     "data": {
      "application/vnd.jupyter.widget-view+json": {
       "model_id": "57460456466f4cdb885a34dbb7b6e4aa",
       "version_major": 2,
       "version_minor": 0
      },
      "text/plain": [
       "Processing Training Folds:   0%|          | 0/78 [00:00<?, ?it/s]"
      ]
     },
     "metadata": {},
     "output_type": "display_data"
    },
    {
     "data": {
      "application/vnd.jupyter.widget-view+json": {
       "model_id": "6791ed6067cc4861814b2c297967f2b4",
       "version_major": 2,
       "version_minor": 0
      },
      "text/plain": [
       "Processing Validation Folds:   0%|          | 0/78 [00:00<?, ?it/s]"
      ]
     },
     "metadata": {},
     "output_type": "display_data"
    },
    {
     "name": "stdout",
     "output_type": "stream",
     "text": [
      "Epoch 17/30 - Train Loss: 0.7095, Train Accuracy: 0.9969, Val Loss: 3.8199, Val Accuracy: 0.9841\n"
     ]
    },
    {
     "data": {
      "application/vnd.jupyter.widget-view+json": {
       "model_id": "b527d0f9772b4bc1bddea964d06ecf02",
       "version_major": 2,
       "version_minor": 0
      },
      "text/plain": [
       "Processing Training Folds:   0%|          | 0/78 [00:00<?, ?it/s]"
      ]
     },
     "metadata": {},
     "output_type": "display_data"
    },
    {
     "data": {
      "application/vnd.jupyter.widget-view+json": {
       "model_id": "f3973511839c4dd4a658d3a226242eff",
       "version_major": 2,
       "version_minor": 0
      },
      "text/plain": [
       "Processing Validation Folds:   0%|          | 0/78 [00:00<?, ?it/s]"
      ]
     },
     "metadata": {},
     "output_type": "display_data"
    },
    {
     "name": "stdout",
     "output_type": "stream",
     "text": [
      "Epoch 18/30 - Train Loss: 3.9038, Train Accuracy: 0.9826, Val Loss: 1.5405, Val Accuracy: 0.9949\n"
     ]
    },
    {
     "data": {
      "application/vnd.jupyter.widget-view+json": {
       "model_id": "9a0588a8b3414ee6be2289f18f9e8bf0",
       "version_major": 2,
       "version_minor": 0
      },
      "text/plain": [
       "Processing Training Folds:   0%|          | 0/78 [00:00<?, ?it/s]"
      ]
     },
     "metadata": {},
     "output_type": "display_data"
    },
    {
     "data": {
      "application/vnd.jupyter.widget-view+json": {
       "model_id": "1e1527da1e5245c1950de0e54ae59103",
       "version_major": 2,
       "version_minor": 0
      },
      "text/plain": [
       "Processing Validation Folds:   0%|          | 0/78 [00:00<?, ?it/s]"
      ]
     },
     "metadata": {},
     "output_type": "display_data"
    },
    {
     "name": "stdout",
     "output_type": "stream",
     "text": [
      "Epoch 19/30 - Train Loss: 1.4252, Train Accuracy: 0.9946, Val Loss: 1.5761, Val Accuracy: 0.9937\n"
     ]
    },
    {
     "data": {
      "application/vnd.jupyter.widget-view+json": {
       "model_id": "9587abf117cc47788d768c9197ae12ef",
       "version_major": 2,
       "version_minor": 0
      },
      "text/plain": [
       "Processing Training Folds:   0%|          | 0/78 [00:00<?, ?it/s]"
      ]
     },
     "metadata": {},
     "output_type": "display_data"
    },
    {
     "data": {
      "application/vnd.jupyter.widget-view+json": {
       "model_id": "c141d3e390de4af8a7270816e5d198f2",
       "version_major": 2,
       "version_minor": 0
      },
      "text/plain": [
       "Processing Validation Folds:   0%|          | 0/78 [00:00<?, ?it/s]"
      ]
     },
     "metadata": {},
     "output_type": "display_data"
    },
    {
     "name": "stdout",
     "output_type": "stream",
     "text": [
      "Epoch 20/30 - Train Loss: 0.2893, Train Accuracy: 0.9996, Val Loss: 1.0052, Val Accuracy: 0.9960\n"
     ]
    },
    {
     "data": {
      "application/vnd.jupyter.widget-view+json": {
       "model_id": "eba148f160444dc583d1e6eb1ba04422",
       "version_major": 2,
       "version_minor": 0
      },
      "text/plain": [
       "Processing Training Folds:   0%|          | 0/78 [00:00<?, ?it/s]"
      ]
     },
     "metadata": {},
     "output_type": "display_data"
    },
    {
     "data": {
      "application/vnd.jupyter.widget-view+json": {
       "model_id": "01e93cbece8840d4ae68b8ab667d2168",
       "version_major": 2,
       "version_minor": 0
      },
      "text/plain": [
       "Processing Validation Folds:   0%|          | 0/78 [00:00<?, ?it/s]"
      ]
     },
     "metadata": {},
     "output_type": "display_data"
    },
    {
     "name": "stdout",
     "output_type": "stream",
     "text": [
      "Epoch 21/30 - Train Loss: 0.1262, Train Accuracy: 1.0000, Val Loss: 1.0384, Val Accuracy: 0.9960\n"
     ]
    },
    {
     "data": {
      "application/vnd.jupyter.widget-view+json": {
       "model_id": "a993b6e9cd9748af811754eefc3ade4d",
       "version_major": 2,
       "version_minor": 0
      },
      "text/plain": [
       "Processing Training Folds:   0%|          | 0/78 [00:00<?, ?it/s]"
      ]
     },
     "metadata": {},
     "output_type": "display_data"
    },
    {
     "data": {
      "application/vnd.jupyter.widget-view+json": {
       "model_id": "797d811515304611929f242d4d1b5d9f",
       "version_major": 2,
       "version_minor": 0
      },
      "text/plain": [
       "Processing Validation Folds:   0%|          | 0/78 [00:00<?, ?it/s]"
      ]
     },
     "metadata": {},
     "output_type": "display_data"
    },
    {
     "name": "stdout",
     "output_type": "stream",
     "text": [
      "Epoch 22/30 - Train Loss: 0.2084, Train Accuracy: 0.9989, Val Loss: 1.2233, Val Accuracy: 0.9955\n"
     ]
    },
    {
     "data": {
      "application/vnd.jupyter.widget-view+json": {
       "model_id": "ccb8c92ccd4d4ddd939ad34163cb95dc",
       "version_major": 2,
       "version_minor": 0
      },
      "text/plain": [
       "Processing Training Folds:   0%|          | 0/78 [00:00<?, ?it/s]"
      ]
     },
     "metadata": {},
     "output_type": "display_data"
    },
    {
     "data": {
      "application/vnd.jupyter.widget-view+json": {
       "model_id": "66eb99d80ed54c62bc26fa8959db9e83",
       "version_major": 2,
       "version_minor": 0
      },
      "text/plain": [
       "Processing Validation Folds:   0%|          | 0/78 [00:00<?, ?it/s]"
      ]
     },
     "metadata": {},
     "output_type": "display_data"
    },
    {
     "name": "stdout",
     "output_type": "stream",
     "text": [
      "Epoch 23/30 - Train Loss: 0.5974, Train Accuracy: 0.9980, Val Loss: 1.0125, Val Accuracy: 0.9958\n"
     ]
    },
    {
     "data": {
      "application/vnd.jupyter.widget-view+json": {
       "model_id": "caec23d7d8564867b924ef53acd02d8d",
       "version_major": 2,
       "version_minor": 0
      },
      "text/plain": [
       "Processing Training Folds:   0%|          | 0/78 [00:00<?, ?it/s]"
      ]
     },
     "metadata": {},
     "output_type": "display_data"
    },
    {
     "data": {
      "application/vnd.jupyter.widget-view+json": {
       "model_id": "a4c630b2914143b3b3de1c1495e8b579",
       "version_major": 2,
       "version_minor": 0
      },
      "text/plain": [
       "Processing Validation Folds:   0%|          | 0/78 [00:00<?, ?it/s]"
      ]
     },
     "metadata": {},
     "output_type": "display_data"
    },
    {
     "name": "stdout",
     "output_type": "stream",
     "text": [
      "Epoch 24/30 - Train Loss: 0.1181, Train Accuracy: 1.0000, Val Loss: 0.9407, Val Accuracy: 0.9959\n"
     ]
    },
    {
     "data": {
      "application/vnd.jupyter.widget-view+json": {
       "model_id": "72320e602fc64ad8bac45b71a7c990f0",
       "version_major": 2,
       "version_minor": 0
      },
      "text/plain": [
       "Processing Training Folds:   0%|          | 0/78 [00:00<?, ?it/s]"
      ]
     },
     "metadata": {},
     "output_type": "display_data"
    },
    {
     "data": {
      "application/vnd.jupyter.widget-view+json": {
       "model_id": "4cbcfa20638b4e4da5c5a2653f717c3a",
       "version_major": 2,
       "version_minor": 0
      },
      "text/plain": [
       "Processing Validation Folds:   0%|          | 0/78 [00:00<?, ?it/s]"
      ]
     },
     "metadata": {},
     "output_type": "display_data"
    },
    {
     "name": "stdout",
     "output_type": "stream",
     "text": [
      "Epoch 25/30 - Train Loss: 0.0838, Train Accuracy: 1.0000, Val Loss: 0.9424, Val Accuracy: 0.9963\n"
     ]
    },
    {
     "data": {
      "application/vnd.jupyter.widget-view+json": {
       "model_id": "bbe28eb6d53b4fe6a4896944ee11e9be",
       "version_major": 2,
       "version_minor": 0
      },
      "text/plain": [
       "Processing Training Folds:   0%|          | 0/78 [00:00<?, ?it/s]"
      ]
     },
     "metadata": {},
     "output_type": "display_data"
    },
    {
     "data": {
      "application/vnd.jupyter.widget-view+json": {
       "model_id": "300f2583a1134845a8ee9cf8bdb1d5a7",
       "version_major": 2,
       "version_minor": 0
      },
      "text/plain": [
       "Processing Validation Folds:   0%|          | 0/78 [00:00<?, ?it/s]"
      ]
     },
     "metadata": {},
     "output_type": "display_data"
    },
    {
     "name": "stdout",
     "output_type": "stream",
     "text": [
      "Epoch 26/30 - Train Loss: 0.0884, Train Accuracy: 0.9995, Val Loss: 1.0926, Val Accuracy: 0.9961\n"
     ]
    },
    {
     "data": {
      "application/vnd.jupyter.widget-view+json": {
       "model_id": "6757f2f72eff479097807128653178e4",
       "version_major": 2,
       "version_minor": 0
      },
      "text/plain": [
       "Processing Training Folds:   0%|          | 0/78 [00:00<?, ?it/s]"
      ]
     },
     "metadata": {},
     "output_type": "display_data"
    },
    {
     "data": {
      "application/vnd.jupyter.widget-view+json": {
       "model_id": "fbb94007c94d45c287229d8949e70c54",
       "version_major": 2,
       "version_minor": 0
      },
      "text/plain": [
       "Processing Validation Folds:   0%|          | 0/78 [00:00<?, ?it/s]"
      ]
     },
     "metadata": {},
     "output_type": "display_data"
    },
    {
     "name": "stdout",
     "output_type": "stream",
     "text": [
      "Epoch 27/30 - Train Loss: 0.2072, Train Accuracy: 0.9994, Val Loss: 1.1044, Val Accuracy: 0.9967\n"
     ]
    },
    {
     "data": {
      "application/vnd.jupyter.widget-view+json": {
       "model_id": "92682a96724645bb8911297f947af560",
       "version_major": 2,
       "version_minor": 0
      },
      "text/plain": [
       "Processing Training Folds:   0%|          | 0/78 [00:00<?, ?it/s]"
      ]
     },
     "metadata": {},
     "output_type": "display_data"
    },
    {
     "data": {
      "application/vnd.jupyter.widget-view+json": {
       "model_id": "b5ce13fe7454467bb32e3077097f11b1",
       "version_major": 2,
       "version_minor": 0
      },
      "text/plain": [
       "Processing Validation Folds:   0%|          | 0/78 [00:00<?, ?it/s]"
      ]
     },
     "metadata": {},
     "output_type": "display_data"
    },
    {
     "name": "stdout",
     "output_type": "stream",
     "text": [
      "Epoch 28/30 - Train Loss: 0.0712, Train Accuracy: 0.9999, Val Loss: 0.9913, Val Accuracy: 0.9963\n"
     ]
    },
    {
     "data": {
      "application/vnd.jupyter.widget-view+json": {
       "model_id": "5b7856844e2546b7b24dd1da79adace2",
       "version_major": 2,
       "version_minor": 0
      },
      "text/plain": [
       "Processing Training Folds:   0%|          | 0/78 [00:00<?, ?it/s]"
      ]
     },
     "metadata": {},
     "output_type": "display_data"
    },
    {
     "data": {
      "application/vnd.jupyter.widget-view+json": {
       "model_id": "657a557349e4459a8f1153885e88c285",
       "version_major": 2,
       "version_minor": 0
      },
      "text/plain": [
       "Processing Validation Folds:   0%|          | 0/78 [00:00<?, ?it/s]"
      ]
     },
     "metadata": {},
     "output_type": "display_data"
    },
    {
     "name": "stdout",
     "output_type": "stream",
     "text": [
      "Epoch 29/30 - Train Loss: 0.0783, Train Accuracy: 0.9999, Val Loss: 0.9190, Val Accuracy: 0.9965\n"
     ]
    },
    {
     "data": {
      "application/vnd.jupyter.widget-view+json": {
       "model_id": "6924c9ab3f0e4d5086fc1bffbf9f4f82",
       "version_major": 2,
       "version_minor": 0
      },
      "text/plain": [
       "Processing Training Folds:   0%|          | 0/78 [00:00<?, ?it/s]"
      ]
     },
     "metadata": {},
     "output_type": "display_data"
    },
    {
     "data": {
      "application/vnd.jupyter.widget-view+json": {
       "model_id": "3bd9254609014de7914b5f052058bec0",
       "version_major": 2,
       "version_minor": 0
      },
      "text/plain": [
       "Processing Validation Folds:   0%|          | 0/78 [00:00<?, ?it/s]"
      ]
     },
     "metadata": {},
     "output_type": "display_data"
    },
    {
     "name": "stdout",
     "output_type": "stream",
     "text": [
      "Epoch 30/30 - Train Loss: 1.0058, Train Accuracy: 0.9954, Val Loss: 3.5337, Val Accuracy: 0.9854\n"
     ]
    },
    {
     "data": {
      "application/vnd.jupyter.widget-view+json": {
       "model_id": "a27d7ed5abeb4f8ba9d271924225ab63",
       "version_major": 2,
       "version_minor": 0
      },
      "text/plain": [
       "Processing Training Folds:   0%|          | 0/78 [00:00<?, ?it/s]"
      ]
     },
     "metadata": {},
     "output_type": "display_data"
    },
    {
     "data": {
      "application/vnd.jupyter.widget-view+json": {
       "model_id": "0431959b3b664692842c5460c826a678",
       "version_major": 2,
       "version_minor": 0
      },
      "text/plain": [
       "Processing Validation Folds:   0%|          | 0/78 [00:00<?, ?it/s]"
      ]
     },
     "metadata": {},
     "output_type": "display_data"
    },
    {
     "name": "stdout",
     "output_type": "stream",
     "text": [
      "Epoch 1/30 - Train Loss: 48.6724, Train Accuracy: 0.6451, Val Loss: 36.4732, Val Accuracy: 0.8361\n"
     ]
    },
    {
     "data": {
      "application/vnd.jupyter.widget-view+json": {
       "model_id": "ca2717ac2fb34de390f5d23a2e77131b",
       "version_major": 2,
       "version_minor": 0
      },
      "text/plain": [
       "Processing Training Folds:   0%|          | 0/78 [00:00<?, ?it/s]"
      ]
     },
     "metadata": {},
     "output_type": "display_data"
    },
    {
     "data": {
      "application/vnd.jupyter.widget-view+json": {
       "model_id": "84d02bb15a12434cab9b5e03304c543f",
       "version_major": 2,
       "version_minor": 0
      },
      "text/plain": [
       "Processing Validation Folds:   0%|          | 0/78 [00:00<?, ?it/s]"
      ]
     },
     "metadata": {},
     "output_type": "display_data"
    },
    {
     "name": "stdout",
     "output_type": "stream",
     "text": [
      "Epoch 2/30 - Train Loss: 25.2063, Train Accuracy: 0.8984, Val Loss: 17.6819, Val Accuracy: 0.9231\n"
     ]
    },
    {
     "data": {
      "application/vnd.jupyter.widget-view+json": {
       "model_id": "1cb8b161ff6d4bbe84fcbd635081412b",
       "version_major": 2,
       "version_minor": 0
      },
      "text/plain": [
       "Processing Training Folds:   0%|          | 0/78 [00:00<?, ?it/s]"
      ]
     },
     "metadata": {},
     "output_type": "display_data"
    },
    {
     "data": {
      "application/vnd.jupyter.widget-view+json": {
       "model_id": "5611a012f7db4ad49dbdd5724524ddb5",
       "version_major": 2,
       "version_minor": 0
      },
      "text/plain": [
       "Processing Validation Folds:   0%|          | 0/78 [00:00<?, ?it/s]"
      ]
     },
     "metadata": {},
     "output_type": "display_data"
    },
    {
     "name": "stdout",
     "output_type": "stream",
     "text": [
      "Epoch 3/30 - Train Loss: 12.8365, Train Accuracy: 0.9467, Val Loss: 10.0311, Val Accuracy: 0.9604\n"
     ]
    },
    {
     "data": {
      "application/vnd.jupyter.widget-view+json": {
       "model_id": "1786a02553744f56b2990bb013ad14ef",
       "version_major": 2,
       "version_minor": 0
      },
      "text/plain": [
       "Processing Training Folds:   0%|          | 0/78 [00:00<?, ?it/s]"
      ]
     },
     "metadata": {},
     "output_type": "display_data"
    },
    {
     "data": {
      "application/vnd.jupyter.widget-view+json": {
       "model_id": "160af002e83d465597c05a643146a230",
       "version_major": 2,
       "version_minor": 0
      },
      "text/plain": [
       "Processing Validation Folds:   0%|          | 0/78 [00:00<?, ?it/s]"
      ]
     },
     "metadata": {},
     "output_type": "display_data"
    },
    {
     "name": "stdout",
     "output_type": "stream",
     "text": [
      "Epoch 4/30 - Train Loss: 6.9830, Train Accuracy: 0.9771, Val Loss: 5.7127, Val Accuracy: 0.9807\n"
     ]
    },
    {
     "data": {
      "application/vnd.jupyter.widget-view+json": {
       "model_id": "9320030b1b6a46f891c679147c8eba53",
       "version_major": 2,
       "version_minor": 0
      },
      "text/plain": [
       "Processing Training Folds:   0%|          | 0/78 [00:00<?, ?it/s]"
      ]
     },
     "metadata": {},
     "output_type": "display_data"
    },
    {
     "data": {
      "application/vnd.jupyter.widget-view+json": {
       "model_id": "778af05d4cc94ce587c2e17e6921857e",
       "version_major": 2,
       "version_minor": 0
      },
      "text/plain": [
       "Processing Validation Folds:   0%|          | 0/78 [00:00<?, ?it/s]"
      ]
     },
     "metadata": {},
     "output_type": "display_data"
    },
    {
     "name": "stdout",
     "output_type": "stream",
     "text": [
      "Epoch 5/30 - Train Loss: 3.7878, Train Accuracy: 0.9899, Val Loss: 3.7489, Val Accuracy: 0.9856\n"
     ]
    },
    {
     "data": {
      "application/vnd.jupyter.widget-view+json": {
       "model_id": "fda79ab7416a41c4a7e8ec52b57c465f",
       "version_major": 2,
       "version_minor": 0
      },
      "text/plain": [
       "Processing Training Folds:   0%|          | 0/78 [00:00<?, ?it/s]"
      ]
     },
     "metadata": {},
     "output_type": "display_data"
    },
    {
     "data": {
      "application/vnd.jupyter.widget-view+json": {
       "model_id": "99ae1ef7b47240428df41688db74d59a",
       "version_major": 2,
       "version_minor": 0
      },
      "text/plain": [
       "Processing Validation Folds:   0%|          | 0/78 [00:00<?, ?it/s]"
      ]
     },
     "metadata": {},
     "output_type": "display_data"
    },
    {
     "name": "stdout",
     "output_type": "stream",
     "text": [
      "Epoch 6/30 - Train Loss: 2.2730, Train Accuracy: 0.9941, Val Loss: 2.9068, Val Accuracy: 0.9900\n"
     ]
    },
    {
     "data": {
      "application/vnd.jupyter.widget-view+json": {
       "model_id": "cf160fc054014ae2b5e6894205950333",
       "version_major": 2,
       "version_minor": 0
      },
      "text/plain": [
       "Processing Training Folds:   0%|          | 0/78 [00:00<?, ?it/s]"
      ]
     },
     "metadata": {},
     "output_type": "display_data"
    },
    {
     "data": {
      "application/vnd.jupyter.widget-view+json": {
       "model_id": "35de8320d6584d48b60c591bd234f859",
       "version_major": 2,
       "version_minor": 0
      },
      "text/plain": [
       "Processing Validation Folds:   0%|          | 0/78 [00:00<?, ?it/s]"
      ]
     },
     "metadata": {},
     "output_type": "display_data"
    },
    {
     "name": "stdout",
     "output_type": "stream",
     "text": [
      "Epoch 7/30 - Train Loss: 1.3277, Train Accuracy: 0.9977, Val Loss: 2.0492, Val Accuracy: 0.9919\n"
     ]
    },
    {
     "data": {
      "application/vnd.jupyter.widget-view+json": {
       "model_id": "af81380e52ea45d79b9ca05a3ee36dea",
       "version_major": 2,
       "version_minor": 0
      },
      "text/plain": [
       "Processing Training Folds:   0%|          | 0/78 [00:00<?, ?it/s]"
      ]
     },
     "metadata": {},
     "output_type": "display_data"
    },
    {
     "data": {
      "application/vnd.jupyter.widget-view+json": {
       "model_id": "dd46fa17361e4fd0a057414a6ffaa84e",
       "version_major": 2,
       "version_minor": 0
      },
      "text/plain": [
       "Processing Validation Folds:   0%|          | 0/78 [00:00<?, ?it/s]"
      ]
     },
     "metadata": {},
     "output_type": "display_data"
    },
    {
     "name": "stdout",
     "output_type": "stream",
     "text": [
      "Epoch 8/30 - Train Loss: 0.8072, Train Accuracy: 0.9987, Val Loss: 1.6840, Val Accuracy: 0.9938\n"
     ]
    },
    {
     "data": {
      "application/vnd.jupyter.widget-view+json": {
       "model_id": "ca6d4b53f2124accb91bc5e6987b465d",
       "version_major": 2,
       "version_minor": 0
      },
      "text/plain": [
       "Processing Training Folds:   0%|          | 0/78 [00:00<?, ?it/s]"
      ]
     },
     "metadata": {},
     "output_type": "display_data"
    },
    {
     "data": {
      "application/vnd.jupyter.widget-view+json": {
       "model_id": "25bbafbde933405c96053b23ce243d66",
       "version_major": 2,
       "version_minor": 0
      },
      "text/plain": [
       "Processing Validation Folds:   0%|          | 0/78 [00:00<?, ?it/s]"
      ]
     },
     "metadata": {},
     "output_type": "display_data"
    },
    {
     "name": "stdout",
     "output_type": "stream",
     "text": [
      "Epoch 9/30 - Train Loss: 0.5355, Train Accuracy: 0.9995, Val Loss: 1.7243, Val Accuracy: 0.9929\n"
     ]
    },
    {
     "data": {
      "application/vnd.jupyter.widget-view+json": {
       "model_id": "2548b2addf66453fbc80c2a70f97577b",
       "version_major": 2,
       "version_minor": 0
      },
      "text/plain": [
       "Processing Training Folds:   0%|          | 0/78 [00:00<?, ?it/s]"
      ]
     },
     "metadata": {},
     "output_type": "display_data"
    },
    {
     "data": {
      "application/vnd.jupyter.widget-view+json": {
       "model_id": "351cb20987c04963a28bd2e7dabb9ead",
       "version_major": 2,
       "version_minor": 0
      },
      "text/plain": [
       "Processing Validation Folds:   0%|          | 0/78 [00:00<?, ?it/s]"
      ]
     },
     "metadata": {},
     "output_type": "display_data"
    },
    {
     "name": "stdout",
     "output_type": "stream",
     "text": [
      "Epoch 10/30 - Train Loss: 0.7868, Train Accuracy: 0.9982, Val Loss: 8.7152, Val Accuracy: 0.9547\n"
     ]
    },
    {
     "data": {
      "application/vnd.jupyter.widget-view+json": {
       "model_id": "80cbdacd13a7482499e031fdccb5da98",
       "version_major": 2,
       "version_minor": 0
      },
      "text/plain": [
       "Processing Training Folds:   0%|          | 0/78 [00:00<?, ?it/s]"
      ]
     },
     "metadata": {},
     "output_type": "display_data"
    },
    {
     "data": {
      "application/vnd.jupyter.widget-view+json": {
       "model_id": "8079be113d4b40a4bd038eb1a972a0f9",
       "version_major": 2,
       "version_minor": 0
      },
      "text/plain": [
       "Processing Validation Folds:   0%|          | 0/78 [00:00<?, ?it/s]"
      ]
     },
     "metadata": {},
     "output_type": "display_data"
    },
    {
     "name": "stdout",
     "output_type": "stream",
     "text": [
      "Epoch 11/30 - Train Loss: 1.9191, Train Accuracy: 0.9933, Val Loss: 2.3527, Val Accuracy: 0.9897\n"
     ]
    },
    {
     "data": {
      "application/vnd.jupyter.widget-view+json": {
       "model_id": "61568ad3f3d24d69b85096cfb43c34f5",
       "version_major": 2,
       "version_minor": 0
      },
      "text/plain": [
       "Processing Training Folds:   0%|          | 0/78 [00:00<?, ?it/s]"
      ]
     },
     "metadata": {},
     "output_type": "display_data"
    },
    {
     "data": {
      "application/vnd.jupyter.widget-view+json": {
       "model_id": "371d9b447a31432cb7dad50b02b06127",
       "version_major": 2,
       "version_minor": 0
      },
      "text/plain": [
       "Processing Validation Folds:   0%|          | 0/78 [00:00<?, ?it/s]"
      ]
     },
     "metadata": {},
     "output_type": "display_data"
    },
    {
     "name": "stdout",
     "output_type": "stream",
     "text": [
      "Epoch 12/30 - Train Loss: 1.5679, Train Accuracy: 0.9949, Val Loss: 1.2923, Val Accuracy: 0.9955\n"
     ]
    },
    {
     "data": {
      "application/vnd.jupyter.widget-view+json": {
       "model_id": "cf118a1235f341b7ac633eddfb94d307",
       "version_major": 2,
       "version_minor": 0
      },
      "text/plain": [
       "Processing Training Folds:   0%|          | 0/78 [00:00<?, ?it/s]"
      ]
     },
     "metadata": {},
     "output_type": "display_data"
    },
    {
     "data": {
      "application/vnd.jupyter.widget-view+json": {
       "model_id": "430d32f91f2b43a09345b4c4331c6e87",
       "version_major": 2,
       "version_minor": 0
      },
      "text/plain": [
       "Processing Validation Folds:   0%|          | 0/78 [00:00<?, ?it/s]"
      ]
     },
     "metadata": {},
     "output_type": "display_data"
    },
    {
     "name": "stdout",
     "output_type": "stream",
     "text": [
      "Epoch 13/30 - Train Loss: 0.8063, Train Accuracy: 0.9977, Val Loss: 1.1138, Val Accuracy: 0.9956\n"
     ]
    },
    {
     "data": {
      "application/vnd.jupyter.widget-view+json": {
       "model_id": "7cab3bbc8c8c466990f5c2b8423b8e5b",
       "version_major": 2,
       "version_minor": 0
      },
      "text/plain": [
       "Processing Training Folds:   0%|          | 0/78 [00:00<?, ?it/s]"
      ]
     },
     "metadata": {},
     "output_type": "display_data"
    },
    {
     "data": {
      "application/vnd.jupyter.widget-view+json": {
       "model_id": "48b6e3e80b8a41b1bd12b91ccf1efe7a",
       "version_major": 2,
       "version_minor": 0
      },
      "text/plain": [
       "Processing Validation Folds:   0%|          | 0/78 [00:00<?, ?it/s]"
      ]
     },
     "metadata": {},
     "output_type": "display_data"
    },
    {
     "name": "stdout",
     "output_type": "stream",
     "text": [
      "Epoch 14/30 - Train Loss: 0.5772, Train Accuracy: 0.9985, Val Loss: 0.9074, Val Accuracy: 0.9961\n"
     ]
    },
    {
     "data": {
      "application/vnd.jupyter.widget-view+json": {
       "model_id": "a4828003a17f426db9feb097e55942d2",
       "version_major": 2,
       "version_minor": 0
      },
      "text/plain": [
       "Processing Training Folds:   0%|          | 0/78 [00:00<?, ?it/s]"
      ]
     },
     "metadata": {},
     "output_type": "display_data"
    },
    {
     "data": {
      "application/vnd.jupyter.widget-view+json": {
       "model_id": "1a1303f33e374aa0a6f79794b05083e4",
       "version_major": 2,
       "version_minor": 0
      },
      "text/plain": [
       "Processing Validation Folds:   0%|          | 0/78 [00:00<?, ?it/s]"
      ]
     },
     "metadata": {},
     "output_type": "display_data"
    },
    {
     "name": "stdout",
     "output_type": "stream",
     "text": [
      "Epoch 15/30 - Train Loss: 0.2381, Train Accuracy: 0.9999, Val Loss: 1.0700, Val Accuracy: 0.9952\n"
     ]
    },
    {
     "data": {
      "application/vnd.jupyter.widget-view+json": {
       "model_id": "e18fea7047e94ef3aa6bbde79b4c151d",
       "version_major": 2,
       "version_minor": 0
      },
      "text/plain": [
       "Processing Training Folds:   0%|          | 0/78 [00:00<?, ?it/s]"
      ]
     },
     "metadata": {},
     "output_type": "display_data"
    },
    {
     "data": {
      "application/vnd.jupyter.widget-view+json": {
       "model_id": "622b6d1abf024d65bca5076dafe29106",
       "version_major": 2,
       "version_minor": 0
      },
      "text/plain": [
       "Processing Validation Folds:   0%|          | 0/78 [00:00<?, ?it/s]"
      ]
     },
     "metadata": {},
     "output_type": "display_data"
    },
    {
     "name": "stdout",
     "output_type": "stream",
     "text": [
      "Epoch 16/30 - Train Loss: 0.2578, Train Accuracy: 0.9991, Val Loss: 1.1730, Val Accuracy: 0.9951\n"
     ]
    },
    {
     "data": {
      "application/vnd.jupyter.widget-view+json": {
       "model_id": "35a8292885364c0e91b6543e6ce6135c",
       "version_major": 2,
       "version_minor": 0
      },
      "text/plain": [
       "Processing Training Folds:   0%|          | 0/78 [00:00<?, ?it/s]"
      ]
     },
     "metadata": {},
     "output_type": "display_data"
    },
    {
     "data": {
      "application/vnd.jupyter.widget-view+json": {
       "model_id": "43a791c9950e48cb82f3438b3f26c874",
       "version_major": 2,
       "version_minor": 0
      },
      "text/plain": [
       "Processing Validation Folds:   0%|          | 0/78 [00:00<?, ?it/s]"
      ]
     },
     "metadata": {},
     "output_type": "display_data"
    },
    {
     "name": "stdout",
     "output_type": "stream",
     "text": [
      "Epoch 17/30 - Train Loss: 0.8141, Train Accuracy: 0.9973, Val Loss: 1.3653, Val Accuracy: 0.9948\n"
     ]
    },
    {
     "data": {
      "application/vnd.jupyter.widget-view+json": {
       "model_id": "3650ba710b534f8daf2d663c4d511f84",
       "version_major": 2,
       "version_minor": 0
      },
      "text/plain": [
       "Processing Training Folds:   0%|          | 0/78 [00:00<?, ?it/s]"
      ]
     },
     "metadata": {},
     "output_type": "display_data"
    },
    {
     "data": {
      "application/vnd.jupyter.widget-view+json": {
       "model_id": "dc5f7cd5cb2a45139a4a9a58ca239582",
       "version_major": 2,
       "version_minor": 0
      },
      "text/plain": [
       "Processing Validation Folds:   0%|          | 0/78 [00:00<?, ?it/s]"
      ]
     },
     "metadata": {},
     "output_type": "display_data"
    },
    {
     "name": "stdout",
     "output_type": "stream",
     "text": [
      "Epoch 18/30 - Train Loss: 0.6777, Train Accuracy: 0.9973, Val Loss: 1.0244, Val Accuracy: 0.9953\n"
     ]
    },
    {
     "data": {
      "application/vnd.jupyter.widget-view+json": {
       "model_id": "dba14131783e435d90cecd189de38660",
       "version_major": 2,
       "version_minor": 0
      },
      "text/plain": [
       "Processing Training Folds:   0%|          | 0/78 [00:00<?, ?it/s]"
      ]
     },
     "metadata": {},
     "output_type": "display_data"
    },
    {
     "data": {
      "application/vnd.jupyter.widget-view+json": {
       "model_id": "2692a93940dd46a698a2bf435c1e8393",
       "version_major": 2,
       "version_minor": 0
      },
      "text/plain": [
       "Processing Validation Folds:   0%|          | 0/78 [00:00<?, ?it/s]"
      ]
     },
     "metadata": {},
     "output_type": "display_data"
    },
    {
     "name": "stdout",
     "output_type": "stream",
     "text": [
      "Epoch 19/30 - Train Loss: 0.1169, Train Accuracy: 1.0000, Val Loss: 0.8578, Val Accuracy: 0.9961\n"
     ]
    },
    {
     "data": {
      "application/vnd.jupyter.widget-view+json": {
       "model_id": "55088f40d77e4d368dadffd5b2cde658",
       "version_major": 2,
       "version_minor": 0
      },
      "text/plain": [
       "Processing Training Folds:   0%|          | 0/78 [00:00<?, ?it/s]"
      ]
     },
     "metadata": {},
     "output_type": "display_data"
    },
    {
     "data": {
      "application/vnd.jupyter.widget-view+json": {
       "model_id": "977c852e02ad499e83052059e340c804",
       "version_major": 2,
       "version_minor": 0
      },
      "text/plain": [
       "Processing Validation Folds:   0%|          | 0/78 [00:00<?, ?it/s]"
      ]
     },
     "metadata": {},
     "output_type": "display_data"
    },
    {
     "name": "stdout",
     "output_type": "stream",
     "text": [
      "Epoch 20/30 - Train Loss: 0.1670, Train Accuracy: 0.9995, Val Loss: 0.9677, Val Accuracy: 0.9959\n"
     ]
    },
    {
     "data": {
      "application/vnd.jupyter.widget-view+json": {
       "model_id": "e5daec4859ff496e93e0e1e5b573ccbf",
       "version_major": 2,
       "version_minor": 0
      },
      "text/plain": [
       "Processing Training Folds:   0%|          | 0/78 [00:00<?, ?it/s]"
      ]
     },
     "metadata": {},
     "output_type": "display_data"
    },
    {
     "data": {
      "application/vnd.jupyter.widget-view+json": {
       "model_id": "91ac552810234a02b8813a642d1f2979",
       "version_major": 2,
       "version_minor": 0
      },
      "text/plain": [
       "Processing Validation Folds:   0%|          | 0/78 [00:00<?, ?it/s]"
      ]
     },
     "metadata": {},
     "output_type": "display_data"
    },
    {
     "name": "stdout",
     "output_type": "stream",
     "text": [
      "Epoch 21/30 - Train Loss: 0.8095, Train Accuracy: 0.9969, Val Loss: 1.2520, Val Accuracy: 0.9950\n"
     ]
    },
    {
     "data": {
      "application/vnd.jupyter.widget-view+json": {
       "model_id": "501ae22225074d3bbe3059b707f24acd",
       "version_major": 2,
       "version_minor": 0
      },
      "text/plain": [
       "Processing Training Folds:   0%|          | 0/78 [00:00<?, ?it/s]"
      ]
     },
     "metadata": {},
     "output_type": "display_data"
    },
    {
     "data": {
      "application/vnd.jupyter.widget-view+json": {
       "model_id": "bbccb47025f146d0a33c958f90a14686",
       "version_major": 2,
       "version_minor": 0
      },
      "text/plain": [
       "Processing Validation Folds:   0%|          | 0/78 [00:00<?, ?it/s]"
      ]
     },
     "metadata": {},
     "output_type": "display_data"
    },
    {
     "name": "stdout",
     "output_type": "stream",
     "text": [
      "Epoch 22/30 - Train Loss: 0.8301, Train Accuracy: 0.9973, Val Loss: 1.2094, Val Accuracy: 0.9943\n"
     ]
    },
    {
     "data": {
      "application/vnd.jupyter.widget-view+json": {
       "model_id": "c2c3111f436646a48dc7a50bc2f22de9",
       "version_major": 2,
       "version_minor": 0
      },
      "text/plain": [
       "Processing Training Folds:   0%|          | 0/78 [00:00<?, ?it/s]"
      ]
     },
     "metadata": {},
     "output_type": "display_data"
    },
    {
     "data": {
      "application/vnd.jupyter.widget-view+json": {
       "model_id": "16c177aacd4b4da4a5d3b09f96b40d3a",
       "version_major": 2,
       "version_minor": 0
      },
      "text/plain": [
       "Processing Validation Folds:   0%|          | 0/78 [00:00<?, ?it/s]"
      ]
     },
     "metadata": {},
     "output_type": "display_data"
    },
    {
     "name": "stdout",
     "output_type": "stream",
     "text": [
      "Epoch 23/30 - Train Loss: 0.1270, Train Accuracy: 0.9999, Val Loss: 0.8551, Val Accuracy: 0.9963\n"
     ]
    },
    {
     "data": {
      "application/vnd.jupyter.widget-view+json": {
       "model_id": "83258caff11e457b88d01fe6b26237ed",
       "version_major": 2,
       "version_minor": 0
      },
      "text/plain": [
       "Processing Training Folds:   0%|          | 0/78 [00:00<?, ?it/s]"
      ]
     },
     "metadata": {},
     "output_type": "display_data"
    },
    {
     "data": {
      "application/vnd.jupyter.widget-view+json": {
       "model_id": "def878fc0520447b8ed3167ad68c3c61",
       "version_major": 2,
       "version_minor": 0
      },
      "text/plain": [
       "Processing Validation Folds:   0%|          | 0/78 [00:00<?, ?it/s]"
      ]
     },
     "metadata": {},
     "output_type": "display_data"
    },
    {
     "name": "stdout",
     "output_type": "stream",
     "text": [
      "Epoch 24/30 - Train Loss: 0.0923, Train Accuracy: 1.0000, Val Loss: 0.9785, Val Accuracy: 0.9958\n"
     ]
    },
    {
     "data": {
      "application/vnd.jupyter.widget-view+json": {
       "model_id": "d1260241f5334eca85a57f7f2f682aa8",
       "version_major": 2,
       "version_minor": 0
      },
      "text/plain": [
       "Processing Training Folds:   0%|          | 0/78 [00:00<?, ?it/s]"
      ]
     },
     "metadata": {},
     "output_type": "display_data"
    },
    {
     "data": {
      "application/vnd.jupyter.widget-view+json": {
       "model_id": "013fa00ade2b45dfb0b663c78585b804",
       "version_major": 2,
       "version_minor": 0
      },
      "text/plain": [
       "Processing Validation Folds:   0%|          | 0/78 [00:00<?, ?it/s]"
      ]
     },
     "metadata": {},
     "output_type": "display_data"
    },
    {
     "name": "stdout",
     "output_type": "stream",
     "text": [
      "Epoch 25/30 - Train Loss: 0.0929, Train Accuracy: 0.9999, Val Loss: 1.2463, Val Accuracy: 0.9951\n"
     ]
    },
    {
     "data": {
      "application/vnd.jupyter.widget-view+json": {
       "model_id": "e7caf82c18aa489481688526ba638942",
       "version_major": 2,
       "version_minor": 0
      },
      "text/plain": [
       "Processing Training Folds:   0%|          | 0/78 [00:00<?, ?it/s]"
      ]
     },
     "metadata": {},
     "output_type": "display_data"
    },
    {
     "data": {
      "application/vnd.jupyter.widget-view+json": {
       "model_id": "e6c8ea8838564abd9d25bb53706b6adf",
       "version_major": 2,
       "version_minor": 0
      },
      "text/plain": [
       "Processing Validation Folds:   0%|          | 0/78 [00:00<?, ?it/s]"
      ]
     },
     "metadata": {},
     "output_type": "display_data"
    },
    {
     "name": "stdout",
     "output_type": "stream",
     "text": [
      "Epoch 26/30 - Train Loss: 0.1094, Train Accuracy: 0.9998, Val Loss: 0.8772, Val Accuracy: 0.9963\n"
     ]
    },
    {
     "data": {
      "application/vnd.jupyter.widget-view+json": {
       "model_id": "1d462b5027954682a6abad115152ab6b",
       "version_major": 2,
       "version_minor": 0
      },
      "text/plain": [
       "Processing Training Folds:   0%|          | 0/78 [00:00<?, ?it/s]"
      ]
     },
     "metadata": {},
     "output_type": "display_data"
    },
    {
     "data": {
      "application/vnd.jupyter.widget-view+json": {
       "model_id": "95cfc0e11a7e4dda9542a6a9c19212a1",
       "version_major": 2,
       "version_minor": 0
      },
      "text/plain": [
       "Processing Validation Folds:   0%|          | 0/78 [00:00<?, ?it/s]"
      ]
     },
     "metadata": {},
     "output_type": "display_data"
    },
    {
     "name": "stdout",
     "output_type": "stream",
     "text": [
      "Epoch 27/30 - Train Loss: 0.0454, Train Accuracy: 1.0000, Val Loss: 0.8066, Val Accuracy: 0.9967\n"
     ]
    },
    {
     "data": {
      "application/vnd.jupyter.widget-view+json": {
       "model_id": "4cb8cf6b5a794f6cb9435df88102762f",
       "version_major": 2,
       "version_minor": 0
      },
      "text/plain": [
       "Processing Training Folds:   0%|          | 0/78 [00:00<?, ?it/s]"
      ]
     },
     "metadata": {},
     "output_type": "display_data"
    },
    {
     "data": {
      "application/vnd.jupyter.widget-view+json": {
       "model_id": "dd645d3c80c84990a4a6cb35ab38ded3",
       "version_major": 2,
       "version_minor": 0
      },
      "text/plain": [
       "Processing Validation Folds:   0%|          | 0/78 [00:00<?, ?it/s]"
      ]
     },
     "metadata": {},
     "output_type": "display_data"
    },
    {
     "name": "stdout",
     "output_type": "stream",
     "text": [
      "Epoch 28/30 - Train Loss: 0.0894, Train Accuracy: 0.9997, Val Loss: 1.5225, Val Accuracy: 0.9942\n"
     ]
    },
    {
     "data": {
      "application/vnd.jupyter.widget-view+json": {
       "model_id": "3c5eff508ac64069ba6092316e49a6aa",
       "version_major": 2,
       "version_minor": 0
      },
      "text/plain": [
       "Processing Training Folds:   0%|          | 0/78 [00:00<?, ?it/s]"
      ]
     },
     "metadata": {},
     "output_type": "display_data"
    },
    {
     "data": {
      "application/vnd.jupyter.widget-view+json": {
       "model_id": "fc21023402ff4715adf70c60668d4a43",
       "version_major": 2,
       "version_minor": 0
      },
      "text/plain": [
       "Processing Validation Folds:   0%|          | 0/78 [00:00<?, ?it/s]"
      ]
     },
     "metadata": {},
     "output_type": "display_data"
    },
    {
     "name": "stdout",
     "output_type": "stream",
     "text": [
      "Epoch 29/30 - Train Loss: 0.2888, Train Accuracy: 0.9992, Val Loss: 0.9630, Val Accuracy: 0.9965\n"
     ]
    },
    {
     "data": {
      "application/vnd.jupyter.widget-view+json": {
       "model_id": "4de586f6312545e392c3e314f360f4f0",
       "version_major": 2,
       "version_minor": 0
      },
      "text/plain": [
       "Processing Training Folds:   0%|          | 0/78 [00:00<?, ?it/s]"
      ]
     },
     "metadata": {},
     "output_type": "display_data"
    },
    {
     "data": {
      "application/vnd.jupyter.widget-view+json": {
       "model_id": "15c832d2708c498da78fe5054ffcfd99",
       "version_major": 2,
       "version_minor": 0
      },
      "text/plain": [
       "Processing Validation Folds:   0%|          | 0/78 [00:00<?, ?it/s]"
      ]
     },
     "metadata": {},
     "output_type": "display_data"
    },
    {
     "name": "stdout",
     "output_type": "stream",
     "text": [
      "Epoch 30/30 - Train Loss: 0.0656, Train Accuracy: 0.9999, Val Loss: 0.8495, Val Accuracy: 0.9965\n"
     ]
    }
   ],
   "source": [
    "training_manager.run_training()"
   ]
  },
  {
   "cell_type": "markdown",
   "id": "b30826a7",
   "metadata": {},
   "source": [
    "***Show Training vs Validation Plot***"
   ]
  },
  {
   "cell_type": "code",
   "execution_count": 9,
   "id": "786c3f5b",
   "metadata": {},
   "outputs": [
    {
     "data": {
      "image/png": "[encoded data removed]",
      "text/plain": [
       "<Figure size 1152x864 with 4 Axes>"
      ]
     },
     "metadata": {
      "needs_background": "light"
     },
     "output_type": "display_data"
    }
   ],
   "source": [
    "visualizer = MetricsVisualizer(training_manager.train_losses, training_manager.val_losses, training_manager.train_accuracies, training_manager.val_accuracies, TRAINING_VALIDATION_PLOT_SAVE_PATH)\n",
    "visualizer.plot_metrics()\n"
   ]
  },
  {
   "cell_type": "markdown",
   "id": "6898c811",
   "metadata": {},
   "source": [
    "***Begin Inference***"
   ]
  },
  {
   "cell_type": "code",
   "execution_count": 11,
   "id": "f40195eb",
   "metadata": {},
   "outputs": [
    {
     "data": {
      "application/vnd.jupyter.widget-view+json": {
       "model_id": "5f2a425a32594627b2d66dc52d8b36b3",
       "version_major": 2,
       "version_minor": 0
      },
      "text/plain": [
       "Processing Folds:   0%|          | 0/2 [00:00<?, ?it/s]"
      ]
     },
     "metadata": {},
     "output_type": "display_data"
    },
    {
     "data": {
      "application/vnd.jupyter.widget-view+json": {
       "model_id": "869e33f149b5469f8f0457f4ca7852fe",
       "version_major": 2,
       "version_minor": 0
      },
      "text/plain": [
       "Processing Prediction:   0%|          | 0/2468 [00:00<?, ?it/s]"
      ]
     },
     "metadata": {},
     "output_type": "display_data"
    },
    {
     "data": {
      "application/vnd.jupyter.widget-view+json": {
       "model_id": "2f307c153ec04ad496dba5024957e777",
       "version_major": 2,
       "version_minor": 0
      },
      "text/plain": [
       "Processing Prediction:   0%|          | 0/2468 [00:00<?, ?it/s]"
      ]
     },
     "metadata": {},
     "output_type": "display_data"
    }
   ],
   "source": [
    "model_predictor = TestManager(DATASET_PATH, TEST_CSV_FILE, LABEL_COLS, SIZE, MODEL, DEVICE, MODEL_SAVE_PATH, FOLD_SPLITS)\n",
    "\n",
    "predictions, true_labels, probabilities = model_predictor.make_predictions()"
   ]
  },
  {
   "cell_type": "markdown",
   "id": "1c5b3e0d",
   "metadata": {},
   "source": [
    "***Compute and Display Metrics***"
   ]
  },
  {
   "cell_type": "code",
   "execution_count": 12,
   "id": "b1c98f31",
   "metadata": {},
   "outputs": [
    {
     "name": "stdout",
     "output_type": "stream",
     "text": [
      "Aggregated Metrics:\n",
      "{'accuracy': 0.9837925445705024, 'f1_score': 0.9721857545533638, 'specificity': 0.9957524471330595, 'sensitivity': 0.9623421803496215}\n",
      "\n",
      "Class-wise Metrics:\n",
      "\n",
      "Fracture:\n",
      "{'accuracy': 0.9829821717990276, 'f1_score': 0.9798270893371758, 'specificity': 1.0, 'sensitivity': 0.96045197740113}\n",
      "\n",
      "CalvarialFracture:\n",
      "{'accuracy': 0.9841977309562399, 'f1_score': 0.9796344647519584, 'specificity': 0.9986604152712659, 'sensitivity': 0.9620512820512821}\n",
      "\n",
      "OtherFracture:\n",
      "{'accuracy': 0.9841977309562399, 'f1_score': 0.9570957095709571, 'specificity': 0.9885969261279127, 'sensitivity': 0.9645232815964523}\n",
      "\n",
      "Classification Reports Per Class:\n",
      "\n",
      "Fracture:\n",
      "              precision    recall  f1-score   support\n",
      "\n",
      "         0.0       0.97      1.00      0.99      1406\n",
      "         1.0       1.00      0.96      0.98      1062\n",
      "\n",
      "    accuracy                           0.98      2468\n",
      "   macro avg       0.99      0.98      0.98      2468\n",
      "weighted avg       0.98      0.98      0.98      2468\n",
      "\n",
      "\n",
      "CalvarialFracture:\n",
      "              precision    recall  f1-score   support\n",
      "\n",
      "         0.0       0.98      1.00      0.99      1493\n",
      "         1.0       1.00      0.96      0.98       975\n",
      "\n",
      "    accuracy                           0.98      2468\n",
      "   macro avg       0.99      0.98      0.98      2468\n",
      "weighted avg       0.98      0.98      0.98      2468\n",
      "\n",
      "\n",
      "OtherFracture:\n",
      "              precision    recall  f1-score   support\n",
      "\n",
      "         0.0       0.99      0.99      0.99      2017\n",
      "         1.0       0.95      0.96      0.96       451\n",
      "\n",
      "    accuracy                           0.98      2468\n",
      "   macro avg       0.97      0.98      0.97      2468\n",
      "weighted avg       0.98      0.98      0.98      2468\n",
      "\n",
      "\n",
      "Multi-label Classification Reports:\n",
      "                   precision    recall  f1-score   support\n",
      "\n",
      "         Fracture       1.00      0.96      0.98      1062\n",
      "CalvarialFracture       1.00      0.96      0.98       975\n",
      "    OtherFracture       0.95      0.96      0.96       451\n",
      "\n",
      "        micro avg       0.99      0.96      0.98      2488\n",
      "        macro avg       0.98      0.96      0.97      2488\n",
      "     weighted avg       0.99      0.96      0.98      2488\n",
      "      samples avg       1.00      0.98      0.98      2488\n",
      "\n"
     ]
    }
   ],
   "source": [
    "metrics_calculator = MetricsCalculator(LABEL_COLS)\n",
    "\n",
    "aggregated_metrics, metrics_per_class, classification_reports, multi_label_report = metrics_calculator.compute_metrics(predictions[0], true_labels[0])\n",
    "metrics_calculator.display_metrics(aggregated_metrics, metrics_per_class, classification_reports, multi_label_report)\n"
   ]
  },
  {
   "cell_type": "markdown",
   "id": "0280c34b",
   "metadata": {},
   "source": [
    "***Display Plots***"
   ]
  },
  {
   "cell_type": "code",
   "execution_count": 14,
   "id": "44fb434b",
   "metadata": {},
   "outputs": [
    {
     "data": {
      "image/png": "[encoded data removed]",
      "text/plain": [
       "<Figure size 1008x1008 with 4 Axes>"
      ]
     },
     "metadata": {},
     "output_type": "display_data"
    },
    {
     "data": {
      "image/png": "[encoded data removed]",
      "text/plain": [
       "<Figure size 720x576 with 1 Axes>"
      ]
     },
     "metadata": {},
     "output_type": "display_data"
    },
    {
     "data": {
      "image/png": "[encoded data removed]",
      "text/plain": [
       "<Figure size 720x576 with 1 Axes>"
      ]
     },
     "metadata": {},
     "output_type": "display_data"
    }
   ],
   "source": [
    "plot_visualizer = PlotVisualizer(LABEL_COLS, PLOT_SAVE_PATH)\n",
    "plot_visualizer.plot_multilabel_confusion_matrix(true_labels, predictions)\n",
    "plot_visualizer.plot_roc_curve(true_labels, probabilities)\n",
    "plot_visualizer.plot_precision_recall_curve(true_labels, probabilities)"
   ]
  },
  {
   "cell_type": "markdown",
   "id": "d66c1934",
   "metadata": {},
   "source": [
    "***GRADCAM HeatMap Generation***"
   ]
  },
  {
   "cell_type": "code",
   "execution_count": 25,
   "id": "c6acb018",
   "metadata": {},
   "outputs": [],
   "source": [
    "# # Sample reload example\n",
    "\n",
    "\n",
    "# import results.heatmap_generator\n",
    "# import importlib\n",
    "# importlib.reload(results.heatmap_generator)\n",
    "# from results.heatmap_generator import HeatmapGenerator\n",
    "# generator = HeatmapGenerator(model_predictor, TEST_CSV_FILE, MODEL, SIZE, DATASET_PATH, CAM_OUTPUT_SIZE, GRADCAM_HEATMAP_SAVE_PATH, modelName)\n",
    "\n",
    "# generator.plot_heatmaps()\n"
   ]
  },
  {
   "cell_type": "code",
   "execution_count": 27,
   "id": "1df607b5",
   "metadata": {
    "scrolled": true
   },
   "outputs": [],
   "source": [
    "generator = HeatmapGenerator(model_predictor, TEST_CSV_FILE, MODEL, SIZE, DATASET_PATH, CAM_OUTPUT_SIZE, GRADCAM_HEATMAP_SAVE_PATH, modelName)\n",
    "\n",
    "generator.plot_heatmaps()"
   ]
  },
  {
   "cell_type": "code",
   "execution_count": null,
   "id": "ef5ceb00",
   "metadata": {},
   "outputs": [],
   "source": []
  }
 ],
 "metadata": {
  "kernelspec": {
   "display_name": "Python 3 (ipykernel)",
   "language": "python",
   "name": "python3"
  },
  "language_info": {
   "codemirror_mode": {
    "name": "ipython",
    "version": 3
   },
   "file_extension": ".py",
   "mimetype": "text/x-python",
   "name": "python",
   "nbconvert_exporter": "python",
   "pygments_lexer": "ipython3",
   "version": "3.7.12"
  }
 },
 "nbformat": 4,
 "nbformat_minor": 5
}
