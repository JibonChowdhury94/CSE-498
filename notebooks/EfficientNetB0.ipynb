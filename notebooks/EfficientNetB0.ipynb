{
 "cells": [
  {
   "cell_type": "code",
   "execution_count": 1,
   "id": "d858081e",
   "metadata": {},
   "outputs": [],
   "source": [
    "import sys\n",
    "sys.path.append('../')"
   ]
  },
  {
   "cell_type": "markdown",
   "id": "f2d696f8",
   "metadata": {},
   "source": [
    "**Import Module**"
   ]
  },
  {
   "cell_type": "code",
   "execution_count": 2,
   "id": "a21a42f8",
   "metadata": {},
   "outputs": [],
   "source": [
    "import torch.nn as nn\n",
    "from torchvision import models\n",
    "import timm\n",
    "\n",
    "from models.trainer import Trainer\n",
    "from datasets.data_manager import DataManager\n",
    "from models.transform_manager import TransformManager\n",
    "from models.model_manager import ModelManager\n",
    "from models.training_manager import TrainingManager\n",
    "from models.test_manager import TestManager\n",
    "\n",
    "from results.metrics_visualizer import MetricsVisualizer\n",
    "from results.metrics_calculator import MetricsCalculator\n",
    "from results.plot_visualizer import PlotVisualizer\n",
    "from results.heatmap_generator import HeatmapGenerator"
   ]
  },
  {
   "cell_type": "markdown",
   "id": "a00c7973",
   "metadata": {},
   "source": [
    "**Define Model Class**"
   ]
  },
  {
   "cell_type": "code",
   "execution_count": 3,
   "id": "c7662dc5",
   "metadata": {},
   "outputs": [],
   "source": [
    "class EfficientNetB0MultiLabel(nn.Module):\n",
    "\n",
    "    def __init__(self, num_classes):\n",
    "        super(EfficientNetB0MultiLabel, self).__init__()\n",
    "        self.model = models.efficientnet_b0(pretrained=True)\n",
    "\n",
    "        num_ftrs = self.model.classifier[1].in_features\n",
    "        self.model.classifier = nn.Sequential(\n",
    "            nn.Dropout(0.2),\n",
    "            nn.Linear(num_ftrs, num_classes)\n",
    "        )\n",
    "\n",
    "    def forward(self, x):\n",
    "        return self.model(x)"
   ]
  },
  {
   "cell_type": "markdown",
   "id": "c05cc918",
   "metadata": {},
   "source": [
    "**Define Model Name & Initialize Model Class**"
   ]
  },
  {
   "cell_type": "code",
   "execution_count": 4,
   "id": "e1a8f6c9",
   "metadata": {},
   "outputs": [],
   "source": [
    "modelName = \"EfficientNetB0\"\n",
    "MODEL = EfficientNetB0MultiLabel"
   ]
  },
  {
   "cell_type": "markdown",
   "id": "0f60c7bb",
   "metadata": {},
   "source": [
    "**Constants**"
   ]
  },
  {
   "cell_type": "code",
   "execution_count": 5,
   "id": "d80acca7",
   "metadata": {},
   "outputs": [],
   "source": [
    "BATCH_SIZE = 64\n",
    "LEARNING_RATE = 1e-4\n",
    "SIZE = 224\n",
    "FOLD_SPLITS=10\n",
    "EPOCHS = 30\n",
    "DEVICE = \"cuda\"\n",
    "WEIGHT_DECAY = 1e-5\n",
    "OPTIMIZER_TYPE = \"RAdam\"\n",
    "\n",
    "MAIN_CSV_FILE = \"../final_label.csv\"\n",
    "LABEL_COLS = [\"Fracture\", \"CalvarialFracture\", \"OtherFracture\"]\n",
    "DATASET_PATH = \"../Dataset_PNG\"\n",
    "TEST_CSV_FILE = \"../test_fold.csv\"\n",
    "\n",
    "MODEL_SAVE_PATH = f\"./models/{modelName}\"\n",
    "TRAINING_VALIDATION_PLOT_SAVE_PATH = f\"./results/{modelName}\"\n",
    "PLOT_SAVE_PATH = f\"./results/{modelName}\"\n",
    "GRADCAM_HEATMAP_SAVE_PATH = f\"./results/{modelName}\"\n",
    "CAM_OUTPUT_SIZE = 512"
   ]
  },
  {
   "cell_type": "markdown",
   "id": "04b2f945",
   "metadata": {},
   "source": [
    "***Initialize necessary modules***"
   ]
  },
  {
   "cell_type": "code",
   "execution_count": 6,
   "id": "dde4f946",
   "metadata": {},
   "outputs": [],
   "source": [
    "data_manager = DataManager(MAIN_CSV_FILE, LABEL_COLS, FOLD_SPLITS)\n",
    "\n",
    "transform_manager = TransformManager(DATASET_PATH, SIZE, BATCH_SIZE)\n",
    "\n",
    "model_manager = ModelManager(LABEL_COLS, DEVICE, MODEL_SAVE_PATH, MODEL, LEARNING_RATE, WEIGHT_DECAY, OPTIMIZER_TYPE)\n",
    "\n",
    "training_manager = TrainingManager(data_manager, transform_manager, model_manager, EPOCHS)"
   ]
  },
  {
   "cell_type": "markdown",
   "id": "388c0ad4",
   "metadata": {},
   "source": [
    "***Begin training***"
   ]
  },
  {
   "cell_type": "code",
   "execution_count": null,
   "id": "349dcbb7",
   "metadata": {},
   "outputs": [],
   "source": [
    "training_manager.run_training()"
   ]
  },
  {
   "cell_type": "markdown",
   "id": "b30826a7",
   "metadata": {},
   "source": [
    "***Show Training vs Validation Plot***"
   ]
  },
  {
   "cell_type": "code",
   "execution_count": null,
   "id": "786c3f5b",
   "metadata": {},
   "outputs": [],
   "source": [
    "visualizer = MetricsVisualizer(training_manager.train_losses, training_manager.val_losses, training_manager.train_accuracies, training_manager.val_accuracies, TRAINING_VALIDATION_PLOT_SAVE_PATH)\n",
    "visualizer.plot_metrics()\n"
   ]
  },
  {
   "cell_type": "markdown",
   "id": "6898c811",
   "metadata": {},
   "source": [
    "***Begin Inference***"
   ]
  },
  {
   "cell_type": "code",
   "execution_count": null,
   "id": "f40195eb",
   "metadata": {},
   "outputs": [],
   "source": [
    "model_predictor = TestManager(DATASET_PATH, TEST_CSV_FILE, LABEL_COLS, SIZE, MODEL, DEVICE, MODEL_SAVE_PATH, FOLD_SPLITS)\n",
    "\n",
    "predictions, true_labels, probabilities = model_predictor.make_predictions()"
   ]
  },
  {
   "cell_type": "markdown",
   "id": "1c5b3e0d",
   "metadata": {},
   "source": [
    "***Compute and Display Metrics***"
   ]
  },
  {
   "cell_type": "code",
   "execution_count": null,
   "id": "b1c98f31",
   "metadata": {},
   "outputs": [],
   "source": [
    "metrics_calculator = MetricsCalculator(LABEL_COLS)\n",
    "\n",
    "aggregated_metrics, metrics_per_class, classification_reports, multi_label_report = metrics_calculator.compute_metrics(predictions[0], true_labels[0])\n",
    "metrics_calculator.display_metrics(aggregated_metrics, metrics_per_class, classification_reports, multi_label_report)\n"
   ]
  },
  {
   "cell_type": "markdown",
   "id": "0280c34b",
   "metadata": {},
   "source": [
    "***Display Plots***"
   ]
  },
  {
   "cell_type": "code",
   "execution_count": null,
   "id": "44fb434b",
   "metadata": {},
   "outputs": [],
   "source": [
    "plot_visualizer = PlotVisualizer(LABEL_COLS, PLOT_SAVE_PATH)\n",
    "plot_visualizer.plot_multilabel_confusion_matrix(true_labels, predictions)\n",
    "plot_visualizer.plot_roc_curve(true_labels, probabilities)\n",
    "plot_visualizer.plot_precision_recall_curve(true_labels, probabilities)"
   ]
  },
  {
   "cell_type": "markdown",
   "id": "d66c1934",
   "metadata": {},
   "source": [
    "***GRADCAM HeatMap Generation***"
   ]
  },
  {
   "cell_type": "code",
   "execution_count": 44,
   "id": "c6acb018",
   "metadata": {},
   "outputs": [],
   "source": [
    "# # Sample reload example\n",
    "\n",
    "\n",
    "# import results.heatmap_generator\n",
    "# import importlib\n",
    "# importlib.reload(results.heatmap_generator)\n",
    "# from results.heatmap_generator import HeatmapGenerator\n",
    "# generator = HeatmapGenerator(model_predictor, TEST_CSV_FILE, MODEL, SIZE, DATASET_PATH, CAM_OUTPUT_SIZE, GRADCAM_HEATMAP_SAVE_PATH, modelName)\n",
    "\n",
    "# generator.plot_heatmaps()\n"
   ]
  },
  {
   "cell_type": "code",
   "execution_count": null,
   "id": "1df607b5",
   "metadata": {
    "scrolled": true
   },
   "outputs": [],
   "source": [
    "generator = HeatmapGenerator(model_predictor, TEST_CSV_FILE, MODEL, SIZE, DATASET_PATH, CAM_OUTPUT_SIZE, GRADCAM_HEATMAP_SAVE_PATH, modelName)\n",
    "\n",
    "generator.plot_heatmaps()"
   ]
  }
 ],
 "metadata": {
  "kernelspec": {
   "display_name": "Python 3 (ipykernel)",
   "language": "python",
   "name": "python3"
  },
  "language_info": {
   "codemirror_mode": {
    "name": "ipython",
    "version": 3
   },
   "file_extension": ".py",
   "mimetype": "text/x-python",
   "name": "python",
   "nbconvert_exporter": "python",
   "pygments_lexer": "ipython3",
   "version": "3.7.12"
  }
 },
 "nbformat": 4,
 "nbformat_minor": 5
}
